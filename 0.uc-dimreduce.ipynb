{
 "cells": [
  {
   "cell_type": "markdown",
   "id": "f4c02599-8eb1-4017-adb9-a0badf5a9993",
   "metadata": {},
   "source": [
    "# Imports and utility functions"
   ]
  },
  {
   "cell_type": "code",
   "execution_count": 4,
   "id": "07ec385d-e038-4583-8797-d6609e065846",
   "metadata": {},
   "outputs": [],
   "source": [
    "import numpy as np\n",
    "import time, glob, gc, os\n",
    "import pandas as pd\n",
    "import seaborn as sns\n",
    "import tifffile\n",
    "\n",
    "downsample_factor = np.NaN # TODO: set this once you find pixel size below\n",
    "\n",
    "pixelsize = 10 # in microns\n",
    "rawname = f'downsampled/{pixelsize}u'\n",
    "processedname = f'_processed-{pixelsize}u'\n",
    "pixelsoutdir = f'../uc-data/{pixelsname}'\n",
    "processeddir = f'../uc-data/{patchesname}'\n",
    "os.makedirs(f'{pixelsoutdir}', exist_ok=True)\n",
    "os.makedirs(f'{processeddir}', exist_ok=True)\n",
    "\n",
    "k = 10\n",
    "repname = f'pca_k={k}_harmony'"
   ]
  },
  {
   "cell_type": "code",
   "execution_count": null,
   "id": "4200fde4-37a0-47ce-b554-41e325914619",
   "metadata": {},
   "outputs": [],
   "source": [
    "# todo: read in channel names and store in array named markers\n",
    "markers = ..."
   ]
  },
  {
   "cell_type": "markdown",
   "id": "0bd1f341-4e7f-4a90-8d9a-ddd4ba9cce76",
   "metadata": {},
   "source": [
    "# Read and understand one file"
   ]
  },
  {
   "cell_type": "code",
   "execution_count": 5,
   "id": "f21ff7d2-1e37-4718-8d3b-3a03a28723e2",
   "metadata": {},
   "outputs": [],
   "source": [
    "# read in file\n",
    "# in RA dataset this line worked:\n",
    "#    np.ascontiguousarray(tifffile.TiffFile(filename).series[0].asarray().transpose(1,2,0))"
   ]
  },
  {
   "cell_type": "code",
   "execution_count": 6,
   "id": "a4c4cb35-01d9-46cf-bb8e-7e2f2a4586b5",
   "metadata": {},
   "outputs": [],
   "source": [
    "# print dimensions of data cube"
   ]
  },
  {
   "cell_type": "code",
   "execution_count": 8,
   "id": "4c037f40-fabc-43fa-9213-5a98c34d328f",
   "metadata": {},
   "outputs": [],
   "source": [
    "# print pixel size in microns\n",
    "import xml.etree.ElementTree as ET\n",
    "\n",
    "# in RA dataset, I had to parse the file's metadata with an XML parser."
   ]
  },
  {
   "cell_type": "code",
   "execution_count": null,
   "id": "218b358c-e313-430b-92cc-83dc77ccf211",
   "metadata": {},
   "outputs": [],
   "source": []
  }
 ],
 "metadata": {
  "kernelspec": {
   "display_name": "Python 3 (ipykernel)",
   "language": "python",
   "name": "python3"
  },
  "language_info": {
   "codemirror_mode": {
    "name": "ipython",
    "version": 3
   },
   "file_extension": ".py",
   "mimetype": "text/x-python",
   "name": "python",
   "nbconvert_exporter": "python",
   "pygments_lexer": "ipython3",
   "version": "3.12.3"
  }
 },
 "nbformat": 4,
 "nbformat_minor": 5
}
